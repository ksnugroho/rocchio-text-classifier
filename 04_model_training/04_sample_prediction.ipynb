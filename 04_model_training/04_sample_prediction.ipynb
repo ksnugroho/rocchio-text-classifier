{
 "metadata": {
  "language_info": {
   "codemirror_mode": {
    "name": "ipython",
    "version": 3
   },
   "file_extension": ".py",
   "mimetype": "text/x-python",
   "name": "python",
   "nbconvert_exporter": "python",
   "pygments_lexer": "ipython3",
   "version": "3.7.3-final"
  },
  "orig_nbformat": 2,
  "kernelspec": {
   "name": "Python 3.7.3 64-bit ('base': conda)",
   "display_name": "Python 3.7.3 64-bit ('base': conda)",
   "metadata": {
    "interpreter": {
     "hash": "0eb3617845a26460c0689afa69b3adca65e091c0beb91ef8feb315cdabb233c6"
    }
   }
  }
 },
 "nbformat": 4,
 "nbformat_minor": 2,
 "cells": [
  {
   "source": [
    "# 04. Sample Prediction"
   ],
   "cell_type": "markdown",
   "metadata": {}
  },
  {
   "cell_type": "code",
   "execution_count": 1,
   "metadata": {},
   "outputs": [],
   "source": [
    "import pickle\n",
    "import pandas as pd\n",
    "import re\n",
    "import string\n",
    "import unicodedata\n",
    "import nltk\n",
    "from bs4 import BeautifulSoup\n",
    "from emo_unicode import UNICODE_EMO, EMOTICONS\n",
    "from nltk.tokenize import sent_tokenize, word_tokenize\n",
    "from nltk.corpus import stopwords\n",
    "from Sastrawi.Stemmer.StemmerFactory import StemmerFactory"
   ]
  },
  {
   "cell_type": "code",
   "execution_count": 2,
   "metadata": {},
   "outputs": [],
   "source": [
    "# tf-idf object from 03_feature_engineering\n",
    "tfidf_path = '../03_feature_engineering/03_pickle/03_tfidf.pickle'\n",
    "with open(tfidf_path, 'rb') as tfidf_path:\n",
    "    tfidf = pickle.load(tfidf_path)\n",
    "\n",
    "# trained model (rocchio) from 04_model_training\n",
    "model_path = '../04_model_training/04_pickle/04_model_rocchio.pickle'\n",
    "with open(model_path, 'rb') as model_path:\n",
    "    roc = pickle.load(model_path)\n",
    "\n",
    "# trained model (knn) from 04_model_training\n",
    "model_path = '../04_model_training/04_pickle/04_model_knn.pickle'\n",
    "with open(model_path, 'rb') as model_path:\n",
    "    knn = pickle.load(model_path)"
   ]
  },
  {
   "cell_type": "code",
   "execution_count": 3,
   "metadata": {},
   "outputs": [],
   "source": [
    "# OPD mapping dictionary\n",
    "category_codes = {\n",
    "    'DINAS KEPENDUDUKAN DAN PENCATATAN SIPIL KOTA MALANG': 0,\n",
    "    'DINAS PEKERJAAN UMUM DAN PENATAAN RUANG KOTA MALANG': 1,\n",
    "    'DINAS LINGKUNGAN HIDUP KOTA MALANG': 2,\n",
    "    'DINAS PENDIDIKAN KOTA MALANG': 3,\n",
    "    'DINAS PERUMAHAN DAN KAWASAN PERMUKIMAN KOTA MALANG': 4,\n",
    "    'SATUAN POLISI PAMONG PRAJA KOTA MALANG': 5,\n",
    "    'DINAS PERHUBUNGAN KOTA MALANG': 6\n",
    "}"
   ]
  },
  {
   "cell_type": "code",
   "execution_count": 4,
   "metadata": {},
   "outputs": [],
   "source": [
    "def text_preprocessing(text):\n",
    "    text = text.strip().lower()\n",
    "    text = re.sub(r'https?://\\S+|www\\.\\S+', '', text) # remove url\n",
    "    text = re.sub('\\S*@\\S*\\s?', '', text) # remove email\n",
    "    text = re.sub('\\[[^]]*\\]', '', text) # remove beetwen square brackets []\n",
    "    text = re.sub('[-+]?[0-9]+', '', text) # remove number\n",
    "    emoticon_pattern = re.compile(u'(' + u'|'.join(k for k in EMOTICONS) + u')')\n",
    "    emoji_pattern = re.compile(\"[\"\n",
    "                               u\"\\U0001F600-\\U0001F64F\" # emoticons\n",
    "                               u\"\\U0001F300-\\U0001F5FF\" # symbols & pictographs\n",
    "                               u\"\\U0001F680-\\U0001F6FF\" # transport & map symbols\n",
    "                               u\"\\U0001F1E0-\\U0001F1FF\" # flags (iOS)\n",
    "                               u\"\\U00002500-\\U00002BEF\" # chinese char\n",
    "                               \"]+\", flags=re.UNICODE)\n",
    "    text = emoji_pattern.sub(r'', text) # remove emoji\n",
    "    text = emoticon_pattern.sub(r'', text) # remove emoticon\n",
    "    text = re.sub(r'[^\\w\\s]', '', text) # remove punctuation\n",
    "    text = unicodedata.normalize('NFKD', text).encode('ascii', 'ignore').decode('utf-8', 'ignore') # remove non-ascii\n",
    "    normal_word_path = pd.read_csv('../00_data/key_norm.csv')\n",
    "    text = ' '.join([normal_word_path[normal_word_path['singkat'] == word]['hasil'].values[0] \n",
    "    if (normal_word_path['singkat'] == word).any() else word for word in text.split()])\n",
    "\n",
    "    factory = StemmerFactory()\n",
    "    stemmer = factory.create_stemmer()\n",
    "    text = stemmer.stem(text)\n",
    "\n",
    "    words = nltk.word_tokenize(text) # tokonize\n",
    "\n",
    "    stopword = stopwords.words('indonesian')\n",
    "    more_stopword = ['daring', 'online', 'pd'] # add more stopword to default corpus\n",
    "    stop_factory = stopword + more_stopword\n",
    "        \n",
    "    clean_words = []\n",
    "    for word in words:\n",
    "        if word not in stop_factory:\n",
    "            clean_words.append(word)\n",
    "    words = clean_words\n",
    "    words = ' '.join(words) # join\n",
    "    return words\n",
    "    \n",
    "def create_features(text):\n",
    "    df = pd.DataFrame(columns=['ticket'])\n",
    "    df.loc[0] = text\n",
    "    df['ticket'] = df['ticket'].apply(text_preprocessing)\n",
    "\n",
    "    features = tfidf.transform(df['ticket']).toarray()\n",
    "    return features\n",
    "\n",
    "def get_category_name(category_id):\n",
    "    for category, id_ in category_codes.items():    \n",
    "        if id_ == category_id:\n",
    "            return category\n",
    "\n",
    "def predict_from_text(text):\n",
    "    # Predict using the input model\n",
    "    roc_prediction = roc.predict(create_features(text))[0]\n",
    "    knn_prediction = knn.predict(create_features(text))[0]\n",
    "    \n",
    "    # Return result\n",
    "    roc_category = get_category_name(roc_prediction)\n",
    "    knn_category = get_category_name(knn_prediction)\n",
    "    \n",
    "    print(\"The predicted category using the rocchio model is %s.\" %(roc_category))\n",
    "    print(\"The predicted category using the knn model is %s.\" %(knn_category))\n",
    "    # print(\"The conditional probability is: %a\" %(prediction_proba.max()*100))"
   ]
  },
  {
   "cell_type": "code",
   "execution_count": 9,
   "metadata": {},
   "outputs": [],
   "source": [
    "text = 'Selamat pagi, saya dari orang tua dari siswa yang sekolah di SMAN 1 Bululawang. 1. Saya ingin bertanya apakah memang SMAN di KAB MALANG itu memiliki peraturan yang menyatakn di setiap kenaikan kelas ( Tiap Tahun ) HARUS daftar ulang dan membayar biaya daftar ulang sebesar Rp 700.000,- / tahunnya / kenaikan kelas ?! karena di sekolah anak saya harus melakukan dan membayar biaya daftar ulang tesebut ketika kenaikan kelas. Setau saya SMAN di KOTA MALANG tidak pernah ada yang Namanya daftar ulang di setiap kenaikan kelas kalua naik kelas ya tinggal naik kelas saja tanpa harus membayar biaya apapun itu bentuknya. Tapi koq di SMAN 1 BULULAWANG setiap kenaikan kelas harus bayar dl 700rb… seperti murid baru, bukannya anak saya sudah murid di sekolah tersebut kenapa harus daftar ulang ? ni kan sekolah negeri bukan sekolah swasta. Mungkin kalo swasta masi wajar ya kali ada pungutan liar. Karena bukan di Kelola pemerintah. Dan di setiap kali saya minta nota pembayaran daftar ulang selalu tidak di berikan atau bukti lampiran resmi dari sekolah jika memang ada biaya daftar ulang. 2. Di kenaikan kelas tahun ini 2020, spp di naikkan yang awalnya 125rb di tahun 2019 menjadi 200rb. Pihak sekolah beralasan kalua dana BOS dari pemerintah tidak cair maka meminta kesediaan dr wali murid membayar kenaikan spp sebesar 75rb (total spp 200rb) UNTUK MEMBIAYAI GURU HONORER dan akan di kembalikan jika dana BOS di adakan Kembali. Sedangkan saya confirm ke dinas Pendidikan bahwa dana BOS akan cair dalam beberapa hari ini. Kalau memang akan cair mengapa pihak SMAN 1 BULULAWANG tetap menaikkan spp ?! bukankah alasan menaikkan biaya spp itu karena dana BOS tidak ada. Dan lagi2 di setiap saya minta lampirn resmi dr pihak sekolah yang menyatakan kenaikan spp dikarenakan dana BOS tidak pernah di berikan. Mengapa pihak sekolah berbohong ? bukankah ini merugikan para wali murid dan menguntungkan pihak sekolah yang TIDAK BERTANGGUNG JAWAB ? saya selaku orang tua siswa dan mewakilkan suara wali murid lainnya merasa terbebani… karena kita terkesan mau tidak mau harus menerima keputusan dari sekolah yg sepihak itu. Bukan kah kita menyekolah anak kita di SMA Negeri supaya tidak begitu terbebani dengan biaya seperti SMA Swasta. Tapi mengapa SMA NEGERI 1 BULULAWANG itu seakan seperti SMA SWASTA yang selalu ada pungutan biaya TIDAK RESMI. Saya dan para wali murid memohon bantuan dengan sangat dalam hal ini, jika memang peraturan di atas tidak perna ada di dinas Pendidikan, mohon untuk segera di tindak lanjuti (seperti di audit atau Tindakan lainnya) supaya semua murid di SMAN 1 Bululawang tidak menjadi korban pungutan liar sekolah yang tidak bertanggung jawab. Agar SMAN 1 Bululawang bs menjadi selayaknya SMA NEGERI LAINNYA yang amanah jujur dan mengayomi para murid2nya. Tapi jika memang point2 di atas dikeluarkan resmi dari pemerintah. Kami mohon untuk bs memberikan surat lampiran resmi yg di keluarkan pihak SMAN 1 BULULAWANG dan berstempel agar kami memiliki bukti otentik sehingga kami tidak berpikir negative (seperti Pemerasan pihak sekolah) tentang sekolah ini. Terima Kasih banyak dan mohon dengan sangat bantuannya #SuarawalimuridSMAN1BULULAWANG'"
   ]
  },
  {
   "cell_type": "code",
   "execution_count": 10,
   "metadata": {},
   "outputs": [
    {
     "output_type": "stream",
     "name": "stdout",
     "text": [
      "The predicted category using the rocchio model is DINAS PENDIDIKAN KOTA MALANG.\nThe predicted category using the knn model is DINAS PENDIDIKAN KOTA MALANG.\n"
     ]
    }
   ],
   "source": [
    "predict_from_text(text)"
   ]
  },
  {
   "cell_type": "code",
   "execution_count": null,
   "metadata": {},
   "outputs": [],
   "source": []
  }
 ]
}