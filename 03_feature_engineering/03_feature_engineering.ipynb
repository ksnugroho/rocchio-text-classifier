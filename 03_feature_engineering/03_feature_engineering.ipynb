{
 "cells": [
  {
   "cell_type": "markdown",
   "metadata": {},
   "source": [
    "# 03. Feature Engineering"
   ]
  },
  {
   "cell_type": "code",
   "execution_count": 1,
   "metadata": {},
   "outputs": [],
   "source": [
    "import pickle\n",
    "import numpy as np\n",
    "from sklearn.preprocessing import LabelEncoder\n",
    "from sklearn.model_selection import train_test_split\n",
    "from sklearn.feature_extraction.text import TfidfVectorizer\n",
    "from sklearn.feature_selection import chi2"
   ]
  },
  {
   "cell_type": "code",
   "execution_count": 2,
   "metadata": {},
   "outputs": [
    {
     "data": {
      "text/html": [
       "<div>\n",
       "<style scoped>\n",
       "    .dataframe tbody tr th:only-of-type {\n",
       "        vertical-align: middle;\n",
       "    }\n",
       "\n",
       "    .dataframe tbody tr th {\n",
       "        vertical-align: top;\n",
       "    }\n",
       "\n",
       "    .dataframe thead th {\n",
       "        text-align: right;\n",
       "    }\n",
       "</style>\n",
       "<table border=\"1\" class=\"dataframe\">\n",
       "  <thead>\n",
       "    <tr style=\"text-align: right;\">\n",
       "      <th></th>\n",
       "      <th>clean_tickets</th>\n",
       "      <th>OPD</th>\n",
       "    </tr>\n",
       "  </thead>\n",
       "  <tbody>\n",
       "    <tr>\n",
       "      <th>0</th>\n",
       "      <td>mohon informasi kk e ktp daftar dukcapil kk da...</td>\n",
       "      <td>DINAS KEPENDUDUKAN DAN PENCATATAN SIPIL KOTA M...</td>\n",
       "    </tr>\n",
       "    <tr>\n",
       "      <th>1</th>\n",
       "      <td>warga lurah karangbesuki kerja bekas juli istr...</td>\n",
       "      <td>DINAS KEPENDUDUKAN DAN PENCATATAN SIPIL KOTA M...</td>\n",
       "    </tr>\n",
       "    <tr>\n",
       "      <th>2</th>\n",
       "      <td>selamat sore warga kel pisang candi kec sukun ...</td>\n",
       "      <td>DINAS KEPENDUDUKAN DAN PENCATATAN SIPIL KOTA M...</td>\n",
       "    </tr>\n",
       "    <tr>\n",
       "      <th>3</th>\n",
       "      <td>mohon informasi blanko e ktp pakai surat teran...</td>\n",
       "      <td>DINAS KEPENDUDUKAN DAN PENCATATAN SIPIL KOTA M...</td>\n",
       "    </tr>\n",
       "    <tr>\n",
       "      <th>4</th>\n",
       "      <td>rubah akte salah tulis anak tulis anak minggu ...</td>\n",
       "      <td>DINAS KEPENDUDUKAN DAN PENCATATAN SIPIL KOTA M...</td>\n",
       "    </tr>\n",
       "  </tbody>\n",
       "</table>\n",
       "</div>"
      ],
      "text/plain": [
       "                                       clean_tickets  \\\n",
       "0  mohon informasi kk e ktp daftar dukcapil kk da...   \n",
       "1  warga lurah karangbesuki kerja bekas juli istr...   \n",
       "2  selamat sore warga kel pisang candi kec sukun ...   \n",
       "3  mohon informasi blanko e ktp pakai surat teran...   \n",
       "4  rubah akte salah tulis anak tulis anak minggu ...   \n",
       "\n",
       "                                                 OPD  \n",
       "0  DINAS KEPENDUDUKAN DAN PENCATATAN SIPIL KOTA M...  \n",
       "1  DINAS KEPENDUDUKAN DAN PENCATATAN SIPIL KOTA M...  \n",
       "2  DINAS KEPENDUDUKAN DAN PENCATATAN SIPIL KOTA M...  \n",
       "3  DINAS KEPENDUDUKAN DAN PENCATATAN SIPIL KOTA M...  \n",
       "4  DINAS KEPENDUDUKAN DAN PENCATATAN SIPIL KOTA M...  "
      ]
     },
     "execution_count": 2,
     "metadata": {},
     "output_type": "execute_result"
    }
   ],
   "source": [
    "data_path = '../02_text_preprocessing/02_pickle/02_clean_data.pickle'\n",
    "with open(data_path, 'rb') as data_path:\n",
    "    data = pickle.load(data_path)\n",
    "\n",
    "data.head()"
   ]
  },
  {
   "cell_type": "markdown",
   "metadata": {},
   "source": [
    "## Label encoding"
   ]
  },
  {
   "cell_type": "code",
   "execution_count": 3,
   "metadata": {},
   "outputs": [
    {
     "data": {
      "text/html": [
       "<div>\n",
       "<style scoped>\n",
       "    .dataframe tbody tr th:only-of-type {\n",
       "        vertical-align: middle;\n",
       "    }\n",
       "\n",
       "    .dataframe tbody tr th {\n",
       "        vertical-align: top;\n",
       "    }\n",
       "\n",
       "    .dataframe thead th {\n",
       "        text-align: right;\n",
       "    }\n",
       "</style>\n",
       "<table border=\"1\" class=\"dataframe\">\n",
       "  <thead>\n",
       "    <tr style=\"text-align: right;\">\n",
       "      <th></th>\n",
       "      <th>clean_tickets</th>\n",
       "      <th>OPD</th>\n",
       "      <th>OPD_label</th>\n",
       "    </tr>\n",
       "  </thead>\n",
       "  <tbody>\n",
       "    <tr>\n",
       "      <th>0</th>\n",
       "      <td>mohon informasi kk e ktp daftar dukcapil kk da...</td>\n",
       "      <td>DINAS KEPENDUDUKAN DAN PENCATATAN SIPIL KOTA M...</td>\n",
       "      <td>0</td>\n",
       "    </tr>\n",
       "    <tr>\n",
       "      <th>1</th>\n",
       "      <td>warga lurah karangbesuki kerja bekas juli istr...</td>\n",
       "      <td>DINAS KEPENDUDUKAN DAN PENCATATAN SIPIL KOTA M...</td>\n",
       "      <td>0</td>\n",
       "    </tr>\n",
       "    <tr>\n",
       "      <th>2</th>\n",
       "      <td>selamat sore warga kel pisang candi kec sukun ...</td>\n",
       "      <td>DINAS KEPENDUDUKAN DAN PENCATATAN SIPIL KOTA M...</td>\n",
       "      <td>0</td>\n",
       "    </tr>\n",
       "    <tr>\n",
       "      <th>3</th>\n",
       "      <td>mohon informasi blanko e ktp pakai surat teran...</td>\n",
       "      <td>DINAS KEPENDUDUKAN DAN PENCATATAN SIPIL KOTA M...</td>\n",
       "      <td>0</td>\n",
       "    </tr>\n",
       "    <tr>\n",
       "      <th>4</th>\n",
       "      <td>rubah akte salah tulis anak tulis anak minggu ...</td>\n",
       "      <td>DINAS KEPENDUDUKAN DAN PENCATATAN SIPIL KOTA M...</td>\n",
       "      <td>0</td>\n",
       "    </tr>\n",
       "  </tbody>\n",
       "</table>\n",
       "</div>"
      ],
      "text/plain": [
       "                                       clean_tickets  \\\n",
       "0  mohon informasi kk e ktp daftar dukcapil kk da...   \n",
       "1  warga lurah karangbesuki kerja bekas juli istr...   \n",
       "2  selamat sore warga kel pisang candi kec sukun ...   \n",
       "3  mohon informasi blanko e ktp pakai surat teran...   \n",
       "4  rubah akte salah tulis anak tulis anak minggu ...   \n",
       "\n",
       "                                                 OPD  OPD_label  \n",
       "0  DINAS KEPENDUDUKAN DAN PENCATATAN SIPIL KOTA M...          0  \n",
       "1  DINAS KEPENDUDUKAN DAN PENCATATAN SIPIL KOTA M...          0  \n",
       "2  DINAS KEPENDUDUKAN DAN PENCATATAN SIPIL KOTA M...          0  \n",
       "3  DINAS KEPENDUDUKAN DAN PENCATATAN SIPIL KOTA M...          0  \n",
       "4  DINAS KEPENDUDUKAN DAN PENCATATAN SIPIL KOTA M...          0  "
      ]
     },
     "execution_count": 3,
     "metadata": {},
     "output_type": "execute_result"
    }
   ],
   "source": [
    "category_codes = {\n",
    "    'DINAS KEPENDUDUKAN DAN PENCATATAN SIPIL KOTA MALANG': 0,\n",
    "    'DINAS PEKERJAAN UMUM DAN PENATAAN RUANG KOTA MALANG': 1,\n",
    "    'DINAS LINGKUNGAN HIDUP KOTA MALANG': 2,\n",
    "    'DINAS PENDIDIKAN KOTA MALANG': 3,\n",
    "    'DINAS PERUMAHAN DAN KAWASAN PERMUKIMAN KOTA MALANG': 4,\n",
    "    'SATUAN POLISI PAMONG PRAJA KOTA MALANG': 5,\n",
    "    'DINAS PERHUBUNGAN KOTA MALANG': 6\n",
    "}\n",
    "\n",
    "data['OPD_label'] = LabelEncoder().fit_transform(data['OPD'])\n",
    "data.head()"
   ]
  },
  {
   "cell_type": "markdown",
   "metadata": {},
   "source": [
    "## Split train-test data"
   ]
  },
  {
   "cell_type": "code",
   "execution_count": 4,
   "metadata": {},
   "outputs": [],
   "source": [
    "X_train, X_test, y_train, y_test = train_test_split(data['clean_tickets'],\n",
    "                                                    data['OPD_label'], \n",
    "                                                    test_size=0.25, \n",
    "                                                    random_state=8)"
   ]
  },
  {
   "cell_type": "markdown",
   "metadata": {},
   "source": [
    "## Text representation: TF-IDF"
   ]
  },
  {
   "cell_type": "code",
   "execution_count": 5,
   "metadata": {},
   "outputs": [
    {
     "name": "stdout",
     "output_type": "stream",
     "text": [
      "(150, 300)\n",
      "(50, 300)\n"
     ]
    }
   ],
   "source": [
    "# TF-IDF parameter\n",
    "ngram_range = (1,2)\n",
    "min_df = 1\n",
    "max_df = 1.0\n",
    "max_features = 300\n",
    "\n",
    "tfidf = TfidfVectorizer(encoding='utf-8',\n",
    "                        ngram_range=ngram_range,\n",
    "                        stop_words=None,\n",
    "                        lowercase=False,\n",
    "                        max_df=max_df,\n",
    "                        min_df=min_df,\n",
    "                        max_features=max_features,\n",
    "                        norm='l2',\n",
    "                        sublinear_tf=True)\n",
    "                        \n",
    "features_train = tfidf.fit_transform(X_train).toarray()\n",
    "labels_train = y_train\n",
    "print(features_train.shape)\n",
    "\n",
    "features_test = tfidf.transform(X_test).toarray()\n",
    "labels_test = y_test\n",
    "print(features_test.shape)"
   ]
  },
  {
   "cell_type": "code",
   "execution_count": 6,
   "metadata": {},
   "outputs": [
    {
     "name": "stdout",
     "output_type": "stream",
     "text": [
      "# 'DINAS KEPENDUDUKAN DAN PENCATATAN SIPIL KOTA MALANG' category:\n",
      "  . Most correlated unigrams:\n",
      ". layan\n",
      ". akta\n",
      ". urus\n",
      ". dispenduk\n",
      ". ektp\n",
      "  . Most correlated bigrams:\n",
      ". dispenduk kota\n",
      ". akta lahir\n",
      "\n",
      "# 'DINAS LINGKUNGAN HIDUP KOTA MALANG' category:\n",
      "  . Most correlated unigrams:\n",
      ". jalan\n",
      ". kondisi\n",
      ". rusak\n",
      ". aspal\n",
      ". lubang\n",
      "  . Most correlated bigrams:\n",
      ". rusak parah\n",
      ". lubang jalan\n",
      "\n",
      "# 'DINAS PEKERJAAN UMUM DAN PENATAAN RUANG KOTA MALANG' category:\n",
      "  . Most correlated unigrams:\n",
      ". limbah\n",
      ". sengat\n",
      ". buang\n",
      ". bau\n",
      ". sampah\n",
      "  . Most correlated bigrams:\n",
      ". bakar sampah\n",
      ". bau sengat\n",
      "\n",
      "# 'DINAS PENDIDIKAN KOTA MALANG' category:\n",
      "  . Most correlated unigrams:\n",
      ". sma\n",
      ". smp\n",
      ". ppdb\n",
      ". siswa\n",
      ". sekolah\n",
      "  . Most correlated bigrams:\n",
      ". orang tua\n",
      ". terima siswa\n",
      "\n",
      "# 'DINAS PERHUBUNGAN KOTA MALANG' category:\n",
      "  . Most correlated unigrams:\n",
      ". bangun\n",
      ". ptp\n",
      ". izin\n",
      ". petas\n",
      ". razia\n",
      "  . Most correlated bigrams:\n",
      ". jam malam\n",
      ". tolong razia\n",
      "\n",
      "# 'DINAS PERUMAHAN DAN KAWASAN PERMUKIMAN KOTA MALANG' category:\n",
      "  . Most correlated unigrams:\n",
      ". macet\n",
      ". tukang\n",
      ". la\n",
      ". angkot\n",
      ". parkir\n",
      "  . Most correlated bigrams:\n",
      ". bayar parkir\n",
      ". parkir liar\n",
      "\n",
      "# 'SATUAN POLISI PAMONG PRAJA KOTA MALANG' category:\n",
      "  . Most correlated unigrams:\n",
      ". mati\n",
      ". tanam\n",
      ". das\n",
      ". pju\n",
      ". pohon\n",
      "  . Most correlated bigrams:\n",
      ". kandang ternak\n",
      ". rt rw\n",
      "\n"
     ]
    }
   ],
   "source": [
    "for Product, category_id in sorted(category_codes.items()):\n",
    "    features_chi2 = chi2(features_train, labels_train == category_id)\n",
    "    indices = np.argsort(features_chi2[0])\n",
    "    feature_names = np.array(tfidf.get_feature_names())[indices]\n",
    "    unigrams = [v for v in feature_names if len(v.split(' ')) == 1]\n",
    "    bigrams = [v for v in feature_names if len(v.split(' ')) == 2]\n",
    "    print(\"# '{}' category:\".format(Product))\n",
    "    print(\"  . Most correlated unigrams:\\n. {}\".format('\\n. '.join(unigrams[-5:])))\n",
    "    print(\"  . Most correlated bigrams:\\n. {}\".format('\\n. '.join(bigrams[-2:])))\n",
    "    print(\"\")"
   ]
  },
  {
   "cell_type": "code",
   "execution_count": 7,
   "metadata": {},
   "outputs": [],
   "source": [
    "with open('03_pickle/03_data.pickle', 'wb') as output:\n",
    "    pickle.dump(data, output)\n",
    "\n",
    "with open('03_pickle/03_X_train.pickle', 'wb') as output:\n",
    "    pickle.dump(X_train, output)\n",
    "\n",
    "with open('03_pickle/03_X_test.pickle', 'wb') as output:\n",
    "    pickle.dump(X_test, output)\n",
    "\n",
    "with open('03_pickle/03_y_train.pickle', 'wb') as output:\n",
    "    pickle.dump(y_train, output)\n",
    "\n",
    "with open('03_pickle/03_y_test.pickle', 'wb') as output:\n",
    "    pickle.dump(y_test, output)\n",
    "\n",
    "with open('03_pickle/03_features_train.pickle', 'wb') as output:\n",
    "    pickle.dump(features_train, output)\n",
    "\n",
    "with open('03_pickle/03_labels_train.pickle', 'wb') as output:\n",
    "    pickle.dump(labels_train, output)\n",
    "\n",
    "with open('03_pickle/03_features_test.pickle', 'wb') as output:\n",
    "    pickle.dump(features_test, output)\n",
    "\n",
    "with open('03_pickle/03_labels_test.pickle', 'wb') as output:\n",
    "    pickle.dump(labels_test, output)\n",
    "\n",
    "with open('03_pickle/03_tfidf.pickle', 'wb') as output:\n",
    "    pickle.dump(tfidf, output)"
   ]
  },
  {
   "cell_type": "code",
   "execution_count": null,
   "metadata": {},
   "outputs": [],
   "source": []
  }
 ],
 "metadata": {
  "kernelspec": {
   "display_name": "Python 3",
   "language": "python",
   "name": "python3"
  },
  "language_info": {
   "codemirror_mode": {
    "name": "ipython",
    "version": 3
   },
   "file_extension": ".py",
   "mimetype": "text/x-python",
   "name": "python",
   "nbconvert_exporter": "python",
   "pygments_lexer": "ipython3",
   "version": "3.7.3"
  }
 },
 "nbformat": 4,
 "nbformat_minor": 4
}
